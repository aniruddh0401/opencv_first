{
 "cells": [
  {
   "cell_type": "code",
   "execution_count": null,
   "metadata": {},
   "outputs": [],
   "source": [
    "#📌 Take 2 image and combine it to form single image. For example collage"
   ]
  },
  {
   "cell_type": "code",
   "execution_count": 18,
   "metadata": {},
   "outputs": [],
   "source": [
    "import cv2\n",
    "import numpy as np\n",
    "\n",
    "#reading image to edit\n",
    "img=cv2.imread(\"dp_4.jpg\")\n",
    "\n",
    "#cropping and flipping image horizontally\n",
    "cimg=img[250:700,150:500]\n",
    "fimg = cv2.flip(cimg, 1)\n",
    "\n",
    "#showing both the cropped and flipped images \n",
    "cv2.imshow(\"Heya1\", cimg)\n",
    "cv2.waitKey(0)\n",
    "cv2.imshow(\"Heya2\", fimg)\n",
    "cv2.waitKey(0)\n",
    "cv2.destroyAllWindows()\n",
    "\n",
    "#using hstack concept of numpy array to stack the arrays column wise\n",
    "mimg=np.hstack((cimg,fimg))\n",
    "cv2.imshow(\"Final\", mimg)\n",
    "cv2.waitKey(0)\n",
    "cv2.destroyAllWindows()"
   ]
  },
  {
   "cell_type": "code",
   "execution_count": 19,
   "metadata": {},
   "outputs": [
    {
     "data": {
      "text/plain": [
       "True"
      ]
     },
     "execution_count": 19,
     "metadata": {},
     "output_type": "execute_result"
    }
   ],
   "source": [
    "#flipping the image vertically both sides\n",
    "f2img=cv2.flip(cimg, -1)\n",
    "f3img=cv2.flip(cimg, 0)\n",
    "\n",
    "#using hstack concept of numpy array to stack the arrays column wise\n",
    "mimg=np.hstack((cimg,fimg))\n",
    "inmimg=np.hstack((f3img,f2img))\n",
    "\n",
    "#using vstack concept of numpy array to stack the arrays row wise\n",
    "mmimg=np.vstack((mimg,inmimg))\n",
    "\n",
    "#showing pics\n",
    "cv2.imshow(\"Heya2\", mimg)\n",
    "cv2.waitKey(0)\n",
    "cv2.destroyAllWindows()\n",
    "cv2.imshow(\"Heya3\", inmimg)\n",
    "cv2.waitKey(0)\n",
    "cv2.destroyAllWindows()\n",
    "cv2.imshow(\"Heya4\", mmimg)\n",
    "cv2.waitKey(0)\n",
    "cv2.destroyAllWindows()\n",
    "cv2.imwrite(\"Merged2.jpg\",mmimg)"
   ]
  },
  {
   "cell_type": "code",
   "execution_count": null,
   "metadata": {},
   "outputs": [],
   "source": []
  }
 ],
 "metadata": {
  "kernelspec": {
   "display_name": "Python 3",
   "language": "python",
   "name": "python3"
  },
  "language_info": {
   "codemirror_mode": {
    "name": "ipython",
    "version": 3
   },
   "file_extension": ".py",
   "mimetype": "text/x-python",
   "name": "python",
   "nbconvert_exporter": "python",
   "pygments_lexer": "ipython3",
   "version": "3.8.3"
  }
 },
 "nbformat": 4,
 "nbformat_minor": 4
}
