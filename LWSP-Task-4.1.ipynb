{
 "cells": [
  {
   "cell_type": "code",
   "execution_count": 7,
   "metadata": {},
   "outputs": [],
   "source": [
    "#📌 Create image by yourself Using Python Code "
   ]
  },
  {
   "cell_type": "code",
   "execution_count": 2,
   "metadata": {},
   "outputs": [],
   "source": [
    "import cv2\n",
    "import numpy as np\n",
    "img=np.zeros((400,400))\n",
    "img[10::20,0::20]=1\n",
    "img[0::20,10::20]=1\n",
    "center_coordinates = (160, 40)\n",
    "center_coordinates1=(150,30)\n",
    "radius = 20  \n",
    "color = (255, 255, 255)\n",
    "color1=(0,0,0)\n",
    "thickness = 40\n",
    "img=cv2.circle(img, center_coordinates, radius, color, thickness)\n",
    "#img=cv2.circle(img, center_coordinates1, radius, color1, thickness)\n",
    "cv2.imshow(\"pic\",img)\n",
    "cv2.waitKey(0)\n",
    "cv2.destroyAllWindows()"
   ]
  },
  {
   "cell_type": "code",
   "execution_count": null,
   "metadata": {},
   "outputs": [],
   "source": []
  }
 ],
 "metadata": {
  "kernelspec": {
   "display_name": "Python 3",
   "language": "python",
   "name": "python3"
  },
  "language_info": {
   "codemirror_mode": {
    "name": "ipython",
    "version": 3
   },
   "file_extension": ".py",
   "mimetype": "text/x-python",
   "name": "python",
   "nbconvert_exporter": "python",
   "pygments_lexer": "ipython3",
   "version": "3.8.3"
  }
 },
 "nbformat": 4,
 "nbformat_minor": 4
}
