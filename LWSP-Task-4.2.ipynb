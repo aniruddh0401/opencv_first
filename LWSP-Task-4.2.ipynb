{
 "cells": [
  {
   "cell_type": "code",
   "execution_count": 14,
   "metadata": {},
   "outputs": [],
   "source": [
    "#📌 Take 2 image crop some part of both image and swap it."
   ]
  },
  {
   "cell_type": "code",
   "execution_count": 17,
   "metadata": {},
   "outputs": [],
   "source": [
    "#import cv2\n",
    "import cv2\n",
    "\n",
    "#read images to edit\n",
    "dp=cv2.imread(\"dp_8.jpg\")\n",
    "aadhar=cv2.imread(\"dp_9.jpg\")\n",
    "photo11=aadhar\n",
    "photo22=dp\n",
    "\n",
    "#showing both original images #done till this step now moving frwrd\n",
    "cv2.imshow(\"original1\",aadhar)\n",
    "cv2.waitKey(0)\n",
    "cv2.imshow(\"original2\",dp)\n",
    "cv2.waitKey(0)\n",
    "\n",
    "#using the pixels cordinates via arrays concepts to alter image \n",
    "aadhar[200:645,5:340]=dp[130:575, 340:675]\n",
    "cv2.imshow(\"cropped3\", aadhar)\n",
    "cv2.waitKey()\n",
    "cv2.destroyAllWindows()\n",
    "cv2.imwrite(\"newphoto22.jpg\",aadhar)\n",
    "\n",
    "#read both images again to edit the 2nd pic\n",
    "photo1=cv2.imread(\"dp_8.jpg\")\n",
    "photo2=cv2.imread(\"dp_9.jpg\")\n",
    "pic1=photo1\n",
    "pic2=photo2\n",
    "\n",
    "##using the pixels cordinates via arrays concepts to alter image \n",
    "pic1[120:400, 370:640]=pic2[270:550,30:300]\n",
    "cv2.imshow(\"org4\", pic1)\n",
    "cv2.waitKey()\n",
    "cv2.destroyAllWindows()"
   ]
  },
  {
   "cell_type": "code",
   "execution_count": null,
   "metadata": {},
   "outputs": [],
   "source": []
  }
 ],
 "metadata": {
  "kernelspec": {
   "display_name": "Python 3",
   "language": "python",
   "name": "python3"
  },
  "language_info": {
   "codemirror_mode": {
    "name": "ipython",
    "version": 3
   },
   "file_extension": ".py",
   "mimetype": "text/x-python",
   "name": "python",
   "nbconvert_exporter": "python",
   "pygments_lexer": "ipython3",
   "version": "3.8.3"
  }
 },
 "nbformat": 4,
 "nbformat_minor": 4
}
